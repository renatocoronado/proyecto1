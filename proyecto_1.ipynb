{
 "cells": [
  {
   "attachments": {},
   "cell_type": "markdown",
   "metadata": {},
   "source": [
    "# Proyecto No 1"
   ]
  },
  {
   "attachments": {},
   "cell_type": "markdown",
   "metadata": {},
   "source": [
    "##### Paso 1\n",
    "\n",
    "importar librerias y data"
   ]
  },
  {
   "cell_type": "code",
   "execution_count": 2,
   "metadata": {},
   "outputs": [],
   "source": [
    "# Importar liberrias\n",
    "import pandas as pd\n",
    "import numpy as np\n",
    "import matplotlib.pyplot as plt\n",
    "import seaborn as seaborn"
   ]
  },
  {
   "cell_type": "code",
   "execution_count": 3,
   "metadata": {},
   "outputs": [],
   "source": [
    "# Cargar datos\n",
    "\n",
    "data = pd.DataFrame(\n",
    "    np.load(\"proyecto_training_data.npy\"),\n",
    "    columns=[\n",
    "        \"SalePrice\",\n",
    "        \"OverallQual\",\n",
    "        \"1stFlrSF\",\n",
    "        \"TotRmsAbvGrd\",\n",
    "        \"YearBuilt\",\n",
    "        \"LotFrontage\",\n",
    "    ],\n",
    ")"
   ]
  },
  {
   "attachments": {},
   "cell_type": "markdown",
   "metadata": {},
   "source": [
    "##### Paso 2\n",
    "\n",
    "Separar data en dos grupos"
   ]
  },
  {
   "cell_type": "code",
   "execution_count": 4,
   "metadata": {},
   "outputs": [],
   "source": [
    "# separar datasets in entrenamiento y prueba\n",
    "\n",
    "data_entrenamiento = data.sample(frac=0.8, random_state=1)\n",
    "\n",
    "data_prueba = data.loc[~data.index.isin(list(data_entrenamiento.index.values))]"
   ]
  },
  {
   "cell_type": "code",
   "execution_count": 5,
   "metadata": {},
   "outputs": [
    {
     "data": {
      "text/html": [
       "<div>\n",
       "<style scoped>\n",
       "    .dataframe tbody tr th:only-of-type {\n",
       "        vertical-align: middle;\n",
       "    }\n",
       "\n",
       "    .dataframe tbody tr th {\n",
       "        vertical-align: top;\n",
       "    }\n",
       "\n",
       "    .dataframe thead th {\n",
       "        text-align: right;\n",
       "    }\n",
       "</style>\n",
       "<table border=\"1\" class=\"dataframe\">\n",
       "  <thead>\n",
       "    <tr style=\"text-align: right;\">\n",
       "      <th></th>\n",
       "      <th>SalePrice</th>\n",
       "      <th>OverallQual</th>\n",
       "      <th>1stFlrSF</th>\n",
       "      <th>TotRmsAbvGrd</th>\n",
       "      <th>YearBuilt</th>\n",
       "      <th>LotFrontage</th>\n",
       "    </tr>\n",
       "  </thead>\n",
       "  <tbody>\n",
       "    <tr>\n",
       "      <th>258</th>\n",
       "      <td>231500.0</td>\n",
       "      <td>7.0</td>\n",
       "      <td>963.0</td>\n",
       "      <td>7.0</td>\n",
       "      <td>2001.0</td>\n",
       "      <td>80.0</td>\n",
       "    </tr>\n",
       "    <tr>\n",
       "      <th>267</th>\n",
       "      <td>179500.0</td>\n",
       "      <td>5.0</td>\n",
       "      <td>1052.0</td>\n",
       "      <td>8.0</td>\n",
       "      <td>1939.0</td>\n",
       "      <td>60.0</td>\n",
       "    </tr>\n",
       "    <tr>\n",
       "      <th>288</th>\n",
       "      <td>122000.0</td>\n",
       "      <td>5.0</td>\n",
       "      <td>900.0</td>\n",
       "      <td>5.0</td>\n",
       "      <td>1967.0</td>\n",
       "      <td>NaN</td>\n",
       "    </tr>\n",
       "    <tr>\n",
       "      <th>649</th>\n",
       "      <td>84500.0</td>\n",
       "      <td>4.0</td>\n",
       "      <td>630.0</td>\n",
       "      <td>3.0</td>\n",
       "      <td>1970.0</td>\n",
       "      <td>21.0</td>\n",
       "    </tr>\n",
       "    <tr>\n",
       "      <th>1233</th>\n",
       "      <td>142000.0</td>\n",
       "      <td>5.0</td>\n",
       "      <td>1188.0</td>\n",
       "      <td>6.0</td>\n",
       "      <td>1959.0</td>\n",
       "      <td>NaN</td>\n",
       "    </tr>\n",
       "    <tr>\n",
       "      <th>...</th>\n",
       "      <td>...</td>\n",
       "      <td>...</td>\n",
       "      <td>...</td>\n",
       "      <td>...</td>\n",
       "      <td>...</td>\n",
       "      <td>...</td>\n",
       "    </tr>\n",
       "    <tr>\n",
       "      <th>1317</th>\n",
       "      <td>208900.0</td>\n",
       "      <td>7.0</td>\n",
       "      <td>1352.0</td>\n",
       "      <td>5.0</td>\n",
       "      <td>2006.0</td>\n",
       "      <td>47.0</td>\n",
       "    </tr>\n",
       "    <tr>\n",
       "      <th>1107</th>\n",
       "      <td>274725.0</td>\n",
       "      <td>7.0</td>\n",
       "      <td>887.0</td>\n",
       "      <td>9.0</td>\n",
       "      <td>2006.0</td>\n",
       "      <td>168.0</td>\n",
       "    </tr>\n",
       "    <tr>\n",
       "      <th>230</th>\n",
       "      <td>148000.0</td>\n",
       "      <td>6.0</td>\n",
       "      <td>1194.0</td>\n",
       "      <td>6.0</td>\n",
       "      <td>1959.0</td>\n",
       "      <td>73.0</td>\n",
       "    </tr>\n",
       "    <tr>\n",
       "      <th>652</th>\n",
       "      <td>191000.0</td>\n",
       "      <td>7.0</td>\n",
       "      <td>909.0</td>\n",
       "      <td>7.0</td>\n",
       "      <td>1996.0</td>\n",
       "      <td>70.0</td>\n",
       "    </tr>\n",
       "    <tr>\n",
       "      <th>70</th>\n",
       "      <td>244000.0</td>\n",
       "      <td>7.0</td>\n",
       "      <td>2223.0</td>\n",
       "      <td>8.0</td>\n",
       "      <td>1973.0</td>\n",
       "      <td>95.0</td>\n",
       "    </tr>\n",
       "  </tbody>\n",
       "</table>\n",
       "<p>1168 rows × 6 columns</p>\n",
       "</div>"
      ],
      "text/plain": [
       "      SalePrice  OverallQual  1stFlrSF  TotRmsAbvGrd  YearBuilt  LotFrontage\n",
       "258    231500.0          7.0     963.0           7.0     2001.0         80.0\n",
       "267    179500.0          5.0    1052.0           8.0     1939.0         60.0\n",
       "288    122000.0          5.0     900.0           5.0     1967.0          NaN\n",
       "649     84500.0          4.0     630.0           3.0     1970.0         21.0\n",
       "1233   142000.0          5.0    1188.0           6.0     1959.0          NaN\n",
       "...         ...          ...       ...           ...        ...          ...\n",
       "1317   208900.0          7.0    1352.0           5.0     2006.0         47.0\n",
       "1107   274725.0          7.0     887.0           9.0     2006.0        168.0\n",
       "230    148000.0          6.0    1194.0           6.0     1959.0         73.0\n",
       "652    191000.0          7.0     909.0           7.0     1996.0         70.0\n",
       "70     244000.0          7.0    2223.0           8.0     1973.0         95.0\n",
       "\n",
       "[1168 rows x 6 columns]"
      ]
     },
     "execution_count": 5,
     "metadata": {},
     "output_type": "execute_result"
    }
   ],
   "source": [
    "data_entrenamiento"
   ]
  },
  {
   "attachments": {},
   "cell_type": "markdown",
   "metadata": {},
   "source": [
    "##### Paso 3\n",
    "\n",
    "obtener valores descriptivos de los datos"
   ]
  },
  {
   "cell_type": "code",
   "execution_count": 16,
   "metadata": {},
   "outputs": [
    {
     "data": {
      "text/plain": [
       "SalePrice       181132.925514\n",
       "OverallQual          6.087329\n",
       "1stFlrSF          1162.135274\n",
       "TotRmsAbvGrd         6.506849\n",
       "YearBuilt         1971.485445\n",
       "LotFrontage         70.105919\n",
       "dtype: float64"
      ]
     },
     "execution_count": 16,
     "metadata": {},
     "output_type": "execute_result"
    }
   ],
   "source": [
    "# calcucular media de variables en dataset\n",
    "\n",
    "media_data_entrenamiento = data_entrenamiento.mean(axis=0)\n",
    "\n",
    "media_data_entrenamiento\n"
   ]
  },
  {
   "cell_type": "code",
   "execution_count": 17,
   "metadata": {},
   "outputs": [
    {
     "data": {
      "text/plain": [
       "SalePrice       755000.0\n",
       "OverallQual         10.0\n",
       "1stFlrSF          4692.0\n",
       "TotRmsAbvGrd        14.0\n",
       "YearBuilt         2010.0\n",
       "LotFrontage        313.0\n",
       "dtype: float64"
      ]
     },
     "execution_count": 17,
     "metadata": {},
     "output_type": "execute_result"
    }
   ],
   "source": [
    "# calcucular valor maximo de variables en dataset\n",
    "\n",
    "max_data_entrenamiento = data_entrenamiento.max(axis=0)\n",
    "\n",
    "max_data_entrenamiento"
   ]
  },
  {
   "cell_type": "code",
   "execution_count": 18,
   "metadata": {},
   "outputs": [
    {
     "data": {
      "text/plain": [
       "SalePrice       34900.0\n",
       "OverallQual         1.0\n",
       "1stFlrSF          334.0\n",
       "TotRmsAbvGrd        2.0\n",
       "YearBuilt        1872.0\n",
       "LotFrontage        21.0\n",
       "dtype: float64"
      ]
     },
     "execution_count": 18,
     "metadata": {},
     "output_type": "execute_result"
    }
   ],
   "source": [
    "# calcucular valor minimo de variables en dataset\n",
    "\n",
    "min_data_entrenamiento = data_entrenamiento.min(axis=0)\n",
    "\n",
    "min_data_entrenamiento"
   ]
  },
  {
   "cell_type": "code",
   "execution_count": 19,
   "metadata": {},
   "outputs": [
    {
     "data": {
      "text/plain": [
       "SalePrice       720100.0\n",
       "OverallQual          9.0\n",
       "1stFlrSF          4358.0\n",
       "TotRmsAbvGrd        12.0\n",
       "YearBuilt          138.0\n",
       "LotFrontage        292.0\n",
       "dtype: float64"
      ]
     },
     "execution_count": 19,
     "metadata": {},
     "output_type": "execute_result"
    }
   ],
   "source": [
    "# calcucular rango de variables en dataset\n",
    "\n",
    "rango_data_entrenamiento = max_data_entrenamiento - min_data_entrenamiento\n",
    "\n",
    "rango_data_entrenamiento"
   ]
  },
  {
   "cell_type": "code",
   "execution_count": 21,
   "metadata": {},
   "outputs": [
    {
     "data": {
      "text/plain": [
       "SalePrice       80521.210044\n",
       "OverallQual         1.398093\n",
       "1stFlrSF          390.867910\n",
       "TotRmsAbvGrd        1.624034\n",
       "YearBuilt          30.250309\n",
       "LotFrontage        24.612701\n",
       "dtype: float64"
      ]
     },
     "execution_count": 21,
     "metadata": {},
     "output_type": "execute_result"
    }
   ],
   "source": [
    "# calcucular desviacion estandar de variables en dataset\n",
    "\n",
    "desviacion_data_entrenamiento = data_entrenamiento.std(axis=0)\n",
    "\n",
    "desviacion_data_entrenamiento"
   ]
  },
  {
   "attachments": {},
   "cell_type": "markdown",
   "metadata": {},
   "source": [
    "##### Paso 4\n",
    "\n",
    "Graficar datos"
   ]
  },
  {
   "cell_type": "code",
   "execution_count": 22,
   "metadata": {},
   "outputs": [
    {
     "data": {
      "text/plain": [
       "<seaborn.axisgrid.FacetGrid at 0x1bb7fd28f70>"
      ]
     },
     "execution_count": 22,
     "metadata": {},
     "output_type": "execute_result"
    },
    {
     "data": {
      "image/png": "[encoded data removed]",
      "text/plain": [
       "<Figure size 360x360 with 1 Axes>"
      ]
     },
     "metadata": {
      "needs_background": "light"
     },
     "output_type": "display_data"
    }
   ],
   "source": [
    "# graficar el precio de venta\n",
    "\n",
    "seaborn.displot(data=data_entrenamiento, x=\"SalePrice\")"
   ]
  },
  {
   "cell_type": "code",
   "execution_count": 23,
   "metadata": {},
   "outputs": [
    {
     "data": {
      "text/plain": [
       "<seaborn.axisgrid.FacetGrid at 0x1bb7fe2dcc0>"
      ]
     },
     "execution_count": 23,
     "metadata": {},
     "output_type": "execute_result"
    },
    {
     "data": {
      "image/png": "[encoded data removed]",
      "text/plain": [
       "<Figure size 360x360 with 1 Axes>"
      ]
     },
     "metadata": {
      "needs_background": "light"
     },
     "output_type": "display_data"
    }
   ],
   "source": [
    "# graficar la calidad general\n",
    "\n",
    "seaborn.displot(data=data_entrenamiento, x=\"OverallQual\")"
   ]
  },
  {
   "cell_type": "code",
   "execution_count": 24,
   "metadata": {},
   "outputs": [
    {
     "data": {
      "text/plain": [
       "<seaborn.axisgrid.FacetGrid at 0x1bb7ff3f220>"
      ]
     },
     "execution_count": 24,
     "metadata": {},
     "output_type": "execute_result"
    },
    {
     "data": {
      "image/png": "[encoded data removed]",
      "text/plain": [
       "<Figure size 360x360 with 1 Axes>"
      ]
     },
     "metadata": {
      "needs_background": "light"
     },
     "output_type": "display_data"
    }
   ],
   "source": [
    "# graficar pies cuadrados del primer piso\n",
    "\n",
    "seaborn.displot(data=data_entrenamiento, x=\"1stFlrSF\")"
   ]
  },
  {
   "cell_type": "code",
   "execution_count": 25,
   "metadata": {},
   "outputs": [
    {
     "data": {
      "text/plain": [
       "<seaborn.axisgrid.FacetGrid at 0x1bb7feb5ae0>"
      ]
     },
     "execution_count": 25,
     "metadata": {},
     "output_type": "execute_result"
    },
    {
     "data": {
      "image/png": "[encoded data removed]",
      "text/plain": [
       "<Figure size 360x360 with 1 Axes>"
      ]
     },
     "metadata": {
      "needs_background": "light"
     },
     "output_type": "display_data"
    }
   ],
   "source": [
    "# graficar cuartos totales\n",
    "\n",
    "seaborn.displot(data=data_entrenamiento, x=\"TotRmsAbvGrd\")"
   ]
  },
  {
   "cell_type": "code",
   "execution_count": 27,
   "metadata": {},
   "outputs": [
    {
     "data": {
      "text/plain": [
       "<seaborn.axisgrid.FacetGrid at 0x1bb0c1f5990>"
      ]
     },
     "execution_count": 27,
     "metadata": {},
     "output_type": "execute_result"
    },
    {
     "data": {
      "image/png": "[encoded data removed]",
      "text/plain": [
       "<Figure size 360x360 with 1 Axes>"
      ]
     },
     "metadata": {
      "needs_background": "light"
     },
     "output_type": "display_data"
    }
   ],
   "source": [
    "# graficar el año de construccion\n",
    "\n",
    "seaborn.displot(data=data_entrenamiento, x=\"YearBuilt\")"
   ]
  },
  {
   "cell_type": "code",
   "execution_count": 28,
   "metadata": {},
   "outputs": [
    {
     "data": {
      "text/plain": [
       "<seaborn.axisgrid.FacetGrid at 0x1bb0c0607f0>"
      ]
     },
     "execution_count": 28,
     "metadata": {},
     "output_type": "execute_result"
    },
    {
     "data": {
      "image/png": "[encoded data removed]",
      "text/plain": [
       "<Figure size 360x360 with 1 Axes>"
      ]
     },
     "metadata": {
      "needs_background": "light"
     },
     "output_type": "display_data"
    }
   ],
   "source": [
    "# graficar la cantidad de calle conectada a la propiedad\n",
    "\n",
    "seaborn.displot(data=data_entrenamiento, x=\"LotFrontage\")"
   ]
  },
  {
   "attachments": {},
   "cell_type": "markdown",
   "metadata": {},
   "source": [
    "##### Paso 5\n",
    "\n",
    "calcular coeficientes de correlacion"
   ]
  },
  {
   "cell_type": "code",
   "execution_count": 35,
   "metadata": {},
   "outputs": [
    {
     "data": {
      "image/png": "[encoded data removed]",
      "text/plain": [
       "<Figure size 432x288 with 1 Axes>"
      ]
     },
     "metadata": {
      "needs_background": "light"
     },
     "output_type": "display_data"
    }
   ],
   "source": [
    "correlacion_precio_calidad = data_entrenamiento[\"SalePrice\"].corr(data_entrenamiento[\"OverallQual\"])\n",
    "\n",
    "plt.scatter(data_entrenamiento[\"OverallQual\"], data_entrenamiento[\"SalePrice\"])\n",
    "plt.xlabel(\"OverallQual\")\n",
    "plt.ylabel(\"SalePrice\")\n",
    "plt.title(\"Correlacion entre Precio y Calidad \" + str(correlacion_precio_calidad))\n",
    "plt.show()"
   ]
  },
  {
   "cell_type": "code",
   "execution_count": 37,
   "metadata": {},
   "outputs": [
    {
     "data": {
      "image/png": "[encoded data removed]",
      "text/plain": [
       "<Figure size 432x288 with 1 Axes>"
      ]
     },
     "metadata": {
      "needs_background": "light"
     },
     "output_type": "display_data"
    }
   ],
   "source": [
    "correlacion_precio_pies_cuadrados = data_entrenamiento[\"SalePrice\"].corr(data_entrenamiento[\"1stFlrSF\"])\n",
    "\n",
    "plt.scatter(data_entrenamiento[\"1stFlrSF\"], data_entrenamiento[\"SalePrice\"])\n",
    "plt.xlabel(\"1stFlrSF\")\n",
    "plt.ylabel(\"SalePrice\")\n",
    "plt.title(\"Correlacion entre Precio y Pies cuadrados \" + str(correlacion_precio_pies_cuadrados))\n",
    "plt.show()"
   ]
  },
  {
   "cell_type": "code",
   "execution_count": 38,
   "metadata": {},
   "outputs": [
    {
     "data": {
      "image/png": "[encoded data removed]",
      "text/plain": [
       "<Figure size 432x288 with 1 Axes>"
      ]
     },
     "metadata": {
      "needs_background": "light"
     },
     "output_type": "display_data"
    }
   ],
   "source": [
    "correlacion_precio_cuatos = data_entrenamiento[\"SalePrice\"].corr(data_entrenamiento[\"TotRmsAbvGrd\"])\n",
    "\n",
    "plt.scatter(data_entrenamiento[\"TotRmsAbvGrd\"], data_entrenamiento[\"SalePrice\"])\n",
    "plt.xlabel(\"TotRmsAbvGrd\")\n",
    "plt.ylabel(\"SalePrice\")\n",
    "plt.title(\"Correlacion entre Precio y cuatos \" + str(correlacion_precio_cuatos))\n",
    "plt.show()"
   ]
  },
  {
   "cell_type": "code",
   "execution_count": 39,
   "metadata": {},
   "outputs": [
    {
     "data": {
      "image/png": "[encoded data removed]",
      "text/plain": [
       "<Figure size 432x288 with 1 Axes>"
      ]
     },
     "metadata": {
      "needs_background": "light"
     },
     "output_type": "display_data"
    }
   ],
   "source": [
    "correlacion_precio_anio_construccion = data_entrenamiento[\"SalePrice\"].corr(data_entrenamiento[\"YearBuilt\"])\n",
    "\n",
    "plt.scatter(data_entrenamiento[\"YearBuilt\"], data_entrenamiento[\"SalePrice\"])\n",
    "plt.xlabel(\"YearBuilt\")\n",
    "plt.ylabel(\"SalePrice\")\n",
    "plt.title(\"Correlacion entre Precio y Calidad \" + str(correlacion_precio_anio_construccion))\n",
    "plt.show()"
   ]
  },
  {
   "cell_type": "code",
   "execution_count": 40,
   "metadata": {},
   "outputs": [
    {
     "data": {
      "image/png": "[encoded data removed]",
      "text/plain": [
       "<Figure size 432x288 with 1 Axes>"
      ]
     },
     "metadata": {
      "needs_background": "light"
     },
     "output_type": "display_data"
    }
   ],
   "source": [
    "correlacion_precio_cantidad_calle = data_entrenamiento[\"SalePrice\"].corr(data_entrenamiento[\"LotFrontage\"])\n",
    "\n",
    "plt.scatter(data_entrenamiento[\"LotFrontage\"], data_entrenamiento[\"SalePrice\"])\n",
    "plt.xlabel(\"LotFrontage\")\n",
    "plt.ylabel(\"SalePrice\")\n",
    "plt.title(\"Correlacion entre Precio y Cantidad Calle \" + str(correlacion_precio_cantidad_calle))\n",
    "plt.show()"
   ]
  },
  {
   "attachments": {},
   "cell_type": "markdown",
   "metadata": {},
   "source": [
    "Las dos variables con màs relaciòn con el precio son el precio y los pies cuadrados."
   ]
  },
  {
   "attachments": {},
   "cell_type": "markdown",
   "metadata": {},
   "source": [
    "##### Paso 6 y 7 Creaciòn de Funciòn\n",
    "\n",
    "Crear funciòn para entrenar un modelo de regresiòn lineal uni-variable y obtener un modelo predictivo"
   ]
  },
  {
   "attachments": {},
   "cell_type": "markdown",
   "metadata": {},
   "source": [
    "Crear arrays de varieable dependiente y variables independientes segùn las gràficas anteriores y agregar columna extra a las independientes"
   ]
  },
  {
   "cell_type": "code",
   "execution_count": 8,
   "metadata": {},
   "outputs": [],
   "source": [
    "price = data_entrenamiento['SalePrice'].values\n",
    "qual = data_entrenamiento['OverallQual'].values\n",
    "size = data_entrenamiento['1stFlrSF'].values"
   ]
  },
  {
   "cell_type": "code",
   "execution_count": 9,
   "metadata": {},
   "outputs": [],
   "source": [
    "Qual = np.column_stack((qual, np.ones(len(qual))))\n",
    "Size = np.column_stack((size, np.ones(len(size))))"
   ]
  },
  {
   "attachments": {},
   "cell_type": "markdown",
   "metadata": {},
   "source": [
    "Funciòn para entrenar modelo"
   ]
  },
  {
   "cell_type": "code",
   "execution_count": null,
   "metadata": {},
   "outputs": [],
   "source": [
    "def modelo_entrenamiento_regresion_lineal(\n",
    "    X, Y, iteraciones, imprimir_error_cada, learning_rate\n",
    "):\n",
    "\n",
    "    # inicializar parametros\n",
    "    beta0 = 0\n",
    "    beta1 = 0\n",
    "\n",
    "    parametros = np.array([beta0, beta1])\n",
    "\n",
    "    # inicializar estructura con costos\n",
    "    costos = {}\n",
    "\n",
    "    # inicializar estructura con paràmetros\n",
    "    modelo = {}\n",
    "\n",
    "    # calcular numero de muestras\n",
    "    n = len(X)\n",
    "\n",
    "    # entrenar modelo para el numero determinado de iteraciones\n",
    "    for iteracion in range(iteraciones):\n",
    "\n",
    "        # hacer prediccion\n",
    "        predicciones = np.dot(X, parametros)\n",
    "\n",
    "        # calcular error y almacenarlo en lista\n",
    "        error = Y - predicciones\n",
    "\n",
    "        costo = np.array(np.sum(error**2) / (2 * n))\n",
    "\n",
    "        costos[iteracion] = costo\n",
    "\n",
    "        # calcular gradiente del error\n",
    "        gradientes = np.sum(np.vstack((error, error)).T * X, axis=0) / n\n",
    "\n",
    "        # actualizar parametros\n",
    "        parametros = parametros + learning_rate * gradientes\n",
    "\n",
    "        # almacenar datos modelo\n",
    "        modelo[iteracion] = parametros\n",
    "\n",
    "        # imprimir el error en el intervalo especificado\n",
    "        if iteracion % imprimir_error_cada == 0:\n",
    "\n",
    "            print(\"Iteration: {}, costo: {}\".format(iteracion, costo))\n",
    "\n",
    "    return costos, modelo\n"
   ]
  },
  {
   "cell_type": "code",
   "execution_count": 6,
   "metadata": {},
   "outputs": [
    {
     "data": {
      "text/plain": [
       "array([231500., 179500., 122000., ..., 148000., 191000., 244000.])"
      ]
     },
     "execution_count": 6,
     "metadata": {},
     "output_type": "execute_result"
    }
   ],
   "source": []
  }
 ],
 "metadata": {
  "kernelspec": {
   "display_name": "Python 3",
   "language": "python",
   "name": "python3"
  },
  "language_info": {
   "codemirror_mode": {
    "name": "ipython",
    "version": 3
   },
   "file_extension": ".py",
   "mimetype": "text/x-python",
   "name": "python",
   "nbconvert_exporter": "python",
   "pygments_lexer": "ipython3",
   "version": "3.10.5"
  },
  "orig_nbformat": 4,
  "vscode": {
   "interpreter": {
    "hash": "8d16696c7c5e1705ba56b1f1c8658fc9a3311c1743452285ed85e35069c857ed"
   }
  }
 },
 "nbformat": 4,
 "nbformat_minor": 2
}
